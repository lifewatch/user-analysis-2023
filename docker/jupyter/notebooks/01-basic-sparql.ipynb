{
 "cells": [
  {
   "cell_type": "code",
   "execution_count": 1,
   "id": "1a16d4cc-ab43-4394-ad1d-80ac0e1745b0",
   "metadata": {
    "jp-MarkdownHeadingCollapsed": true
   },
   "outputs": [],
   "source": [
    "from pykg2tbl import DefaultSparqlBuilder, KGSource, QueryResult\n",
    "from pathlib import Path\n",
    "from pandas import DataFrame\n",
    "import os\n",
    "\n",
    "\n",
    "# SPARQL EndPoint to use - wrapped as Knowledge-Graph 'source'\n",
    "GDB_BASE:str = os.getenv(\"GDB_BASE\", \"http://localhost:7200/\")\n",
    "GDB_REPO: str = os.getenv(\"GDB_REPO\", \"lwua23\")\n",
    "GDB_ENDPOINT: str = f\"{GDB_BASE}repositories/{GDB_REPO}\"\n",
    "GDB: KGSource = KGSource.build(GDB_ENDPOINT)\n",
    "\n",
    "TEMPLATES_FOLDER = str(Path().absolute() / \"queries\")\n",
    "GENERATOR = DefaultSparqlBuilder(templates_folder=TEMPLATES_FOLDER)\n",
    "\n",
    "\n",
    "def generate_sparql(name: str, **vars) -> str: \n",
    "    \"\"\" Simply build the sparql by using the named query and applying the vars\n",
    "    \"\"\"\n",
    "    return GENERATOR.build_syntax(name, **vars)\n",
    "\n",
    "\n",
    "def execute_to_df(name: str, **vars) -> DataFrame:\n",
    "    \"\"\" Builds the sparql and executes, returning the result as a dataframe.\n",
    "    \"\"\"\n",
    "    sparql = generate_sparql(name, **vars)\n",
    "    result: QueryResult = GDB.query(sparql=sparql)\n",
    "    return result.to_dataframe()"
   ]
  },
  {
   "cell_type": "markdown",
   "id": "5164a2eb-4ed9-40a8-a111-2dea39d5f925",
   "metadata": {},
   "source": [
    "# basic entity listing"
   ]
  },
  {
   "cell_type": "markdown",
   "id": "7eb31e7b-4ab3-4b70-a99b-7c8ebe0b2a48",
   "metadata": {},
   "source": [
    "## execute_to_df(\"project.sparql\")"
   ]
  },
  {
   "cell_type": "code",
   "execution_count": 2,
   "id": "8162b28d-1a28-4346-884e-7341d83841ab",
   "metadata": {},
   "outputs": [
    {
     "data": {
      "text/html": [
       "<div>\n",
       "<style scoped>\n",
       "    .dataframe tbody tr th:only-of-type {\n",
       "        vertical-align: middle;\n",
       "    }\n",
       "\n",
       "    .dataframe tbody tr th {\n",
       "        vertical-align: top;\n",
       "    }\n",
       "\n",
       "    .dataframe thead th {\n",
       "        text-align: right;\n",
       "    }\n",
       "</style>\n",
       "<table border=\"1\" class=\"dataframe\">\n",
       "  <thead>\n",
       "    <tr style=\"text-align: right;\">\n",
       "      <th></th>\n",
       "      <th>person</th>\n",
       "      <th>name</th>\n",
       "    </tr>\n",
       "  </thead>\n",
       "  <tbody>\n",
       "    <tr>\n",
       "      <th>0</th>\n",
       "      <td>https://orcid.org/0000-0003-0663-5907</td>\n",
       "      <td>Laurian van Maldeghem</td>\n",
       "    </tr>\n",
       "    <tr>\n",
       "      <th>1</th>\n",
       "      <td>https://orcid.org/0000-0002-9648-6484</td>\n",
       "      <td>Marc Portier</td>\n",
       "    </tr>\n",
       "  </tbody>\n",
       "</table>\n",
       "</div>"
      ],
      "text/plain": [
       "                                  person                   name\n",
       "0  https://orcid.org/0000-0003-0663-5907  Laurian van Maldeghem\n",
       "1  https://orcid.org/0000-0002-9648-6484           Marc Portier"
      ]
     },
     "execution_count": 2,
     "metadata": {},
     "output_type": "execute_result"
    }
   ],
   "source": [
    "execute_to_df(\"person.sparql\")"
   ]
  },
  {
   "cell_type": "code",
   "execution_count": 6,
   "id": "5b5e7448-d723-46fc-818b-2ec41306f471",
   "metadata": {},
   "outputs": [
    {
     "data": {
      "text/html": [
       "<div>\n",
       "<style scoped>\n",
       "    .dataframe tbody tr th:only-of-type {\n",
       "        vertical-align: middle;\n",
       "    }\n",
       "\n",
       "    .dataframe tbody tr th {\n",
       "        vertical-align: top;\n",
       "    }\n",
       "\n",
       "    .dataframe thead th {\n",
       "        text-align: right;\n",
       "    }\n",
       "</style>\n",
       "<table border=\"1\" class=\"dataframe\">\n",
       "  <thead>\n",
       "    <tr style=\"text-align: right;\">\n",
       "      <th></th>\n",
       "      <th>instance</th>\n",
       "      <th>label</th>\n",
       "    </tr>\n",
       "  </thead>\n",
       "  <tbody>\n",
       "    <tr>\n",
       "      <th>0</th>\n",
       "      <td>https://orcid.org/0000-0003-0663-5907</td>\n",
       "      <td>Laurian van Maldeghem</td>\n",
       "    </tr>\n",
       "    <tr>\n",
       "      <th>1</th>\n",
       "      <td>https://orcid.org/0000-0002-9648-6484</td>\n",
       "      <td>Marc Portier</td>\n",
       "    </tr>\n",
       "  </tbody>\n",
       "</table>\n",
       "</div>"
      ],
      "text/plain": [
       "                                instance                  label\n",
       "0  https://orcid.org/0000-0003-0663-5907  Laurian van Maldeghem\n",
       "1  https://orcid.org/0000-0002-9648-6484           Marc Portier"
      ]
     },
     "execution_count": 6,
     "metadata": {},
     "output_type": "execute_result"
    }
   ],
   "source": [
    "findPerson=dict(type=\"http://schema.org/Person\")\n",
    "findProject=dict(type=\"http://schema.org/Project\")\n",
    "execute_to_df(\"instances-of-type.sparql\", **findPerson) "
   ]
  },
  {
   "cell_type": "code",
   "execution_count": 7,
   "id": "f31ebc67-9a94-478c-a907-e6bf1d54e401",
   "metadata": {},
   "outputs": [
    {
     "data": {
      "text/html": [
       "<div>\n",
       "<style scoped>\n",
       "    .dataframe tbody tr th:only-of-type {\n",
       "        vertical-align: middle;\n",
       "    }\n",
       "\n",
       "    .dataframe tbody tr th {\n",
       "        vertical-align: top;\n",
       "    }\n",
       "\n",
       "    .dataframe thead th {\n",
       "        text-align: right;\n",
       "    }\n",
       "</style>\n",
       "<table border=\"1\" class=\"dataframe\">\n",
       "  <thead>\n",
       "    <tr style=\"text-align: right;\">\n",
       "      <th></th>\n",
       "      <th>project</th>\n",
       "      <th>name</th>\n",
       "    </tr>\n",
       "  </thead>\n",
       "  <tbody>\n",
       "    <tr>\n",
       "      <th>0</th>\n",
       "      <td>https://edmo.seadatanet.org/report/422</td>\n",
       "      <td>VLIZ vzw</td>\n",
       "    </tr>\n",
       "  </tbody>\n",
       "</table>\n",
       "</div>"
      ],
      "text/plain": [
       "                                  project      name\n",
       "0  https://edmo.seadatanet.org/report/422  VLIZ vzw"
      ]
     },
     "execution_count": 7,
     "metadata": {},
     "output_type": "execute_result"
    }
   ],
   "source": [
    "execute_to_df(\"organization.sparql\")"
   ]
  },
  {
   "cell_type": "code",
   "execution_count": null,
   "id": "86e2095d-b2b9-4e9e-868e-91a62abd7113",
   "metadata": {},
   "outputs": [],
   "source": []
  }
 ],
 "metadata": {
  "kernelspec": {
   "display_name": "Python 3 (ipykernel)",
   "language": "python",
   "name": "python3"
  },
  "language_info": {
   "codemirror_mode": {
    "name": "ipython",
    "version": 3
   },
   "file_extension": ".py",
   "mimetype": "text/x-python",
   "name": "python",
   "nbconvert_exporter": "python",
   "pygments_lexer": "ipython3",
   "version": "3.11.6"
  }
 },
 "nbformat": 4,
 "nbformat_minor": 5
}

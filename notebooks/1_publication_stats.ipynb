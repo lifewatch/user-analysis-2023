{
 "cells": [
  {
   "cell_type": "code",
   "execution_count": 3,
   "id": "1a16d4cc-ab43-4394-ad1d-80ac0e1745b0",
   "metadata": {
    "jp-MarkdownHeadingCollapsed": true
   },
   "outputs": [],
   "source": [
    "from connec_functions import execute_to_df, generate_sparql\n",
    "import pandas as pd\n",
    "import numpy as np\n",
    "import matplotlib.pyplot as plt\n",
    "from IPython.display import display, HTML\n",
    "import warnings\n",
    "\n",
    "#warnings.filterwarnings('ignore')"
   ]
  },
  {
   "cell_type": "markdown",
   "id": "c615a8ea",
   "metadata": {},
   "source": [
    "## Publications"
   ]
  },
  {
   "cell_type": "markdown",
   "id": "046cc659-9cfc-469a-91b2-bf3602cf034f",
   "metadata": {},
   "source": [
    "In this part, we analyse the publications that are included in the LifeWatch special collections."
   ]
  },
  {
   "cell_type": "code",
   "execution_count": 4,
   "id": "4c3d22c2-b71f-4af8-bf19-c42493cf0390",
   "metadata": {},
   "outputs": [
    {
     "data": {
      "text/html": [
       "<div>\n",
       "<style scoped>\n",
       "    .dataframe tbody tr th:only-of-type {\n",
       "        vertical-align: middle;\n",
       "    }\n",
       "\n",
       "    .dataframe tbody tr th {\n",
       "        vertical-align: top;\n",
       "    }\n",
       "\n",
       "    .dataframe thead th {\n",
       "        text-align: right;\n",
       "    }\n",
       "</style>\n",
       "<table border=\"1\" class=\"dataframe\">\n",
       "  <thead>\n",
       "    <tr style=\"text-align: right;\">\n",
       "      <th></th>\n",
       "      <th>publication</th>\n",
       "      <th>type</th>\n",
       "      <th>publish_date</th>\n",
       "      <th>special_collection</th>\n",
       "    </tr>\n",
       "  </thead>\n",
       "  <tbody>\n",
       "    <tr>\n",
       "      <th>0</th>\n",
       "      <td>http://dev.marineinfo.org/id/publication/294591</td>\n",
       "      <td>Journal article</td>\n",
       "      <td>2018-01-01</td>\n",
       "      <td>http://dev.marineinfo.org/id/collection/919</td>\n",
       "    </tr>\n",
       "    <tr>\n",
       "      <th>1</th>\n",
       "      <td>http://dev.marineinfo.org/id/publication/294591</td>\n",
       "      <td>Journal article</td>\n",
       "      <td>2018-01-01</td>\n",
       "      <td>http://dev.marineinfo.org/id/collection/945</td>\n",
       "    </tr>\n",
       "    <tr>\n",
       "      <th>2</th>\n",
       "      <td>http://dev.marineinfo.org/id/publication/294591</td>\n",
       "      <td>Journal article</td>\n",
       "      <td>2018-01-01</td>\n",
       "      <td>http://dev.marineinfo.org/id/collection/941</td>\n",
       "    </tr>\n",
       "    <tr>\n",
       "      <th>3</th>\n",
       "      <td>http://dev.marineinfo.org/id/publication/294591</td>\n",
       "      <td>Journal article</td>\n",
       "      <td>2018-01-01</td>\n",
       "      <td>http://dev.marineinfo.org/id/collection/39</td>\n",
       "    </tr>\n",
       "    <tr>\n",
       "      <th>4</th>\n",
       "      <td>http://dev.marineinfo.org/id/publication/294591</td>\n",
       "      <td>Journal article</td>\n",
       "      <td>2018-01-01</td>\n",
       "      <td>http://dev.marineinfo.org/id/collection/880</td>\n",
       "    </tr>\n",
       "    <tr>\n",
       "      <th>...</th>\n",
       "      <td>...</td>\n",
       "      <td>...</td>\n",
       "      <td>...</td>\n",
       "      <td>...</td>\n",
       "    </tr>\n",
       "    <tr>\n",
       "      <th>7753</th>\n",
       "      <td>http://dev.marineinfo.org/id/publication/312467</td>\n",
       "      <td>Journal article</td>\n",
       "      <td>2019-01-01</td>\n",
       "      <td>http://dev.marineinfo.org/id/collection/39</td>\n",
       "    </tr>\n",
       "    <tr>\n",
       "      <th>7754</th>\n",
       "      <td>http://dev.marineinfo.org/id/publication/312467</td>\n",
       "      <td>Journal article</td>\n",
       "      <td>2019-01-01</td>\n",
       "      <td>http://dev.marineinfo.org/id/collection/507</td>\n",
       "    </tr>\n",
       "    <tr>\n",
       "      <th>7755</th>\n",
       "      <td>http://dev.marineinfo.org/id/publication/234491</td>\n",
       "      <td>Journal article</td>\n",
       "      <td>2013-01-01</td>\n",
       "      <td>http://dev.marineinfo.org/id/collection/941</td>\n",
       "    </tr>\n",
       "    <tr>\n",
       "      <th>7756</th>\n",
       "      <td>http://dev.marineinfo.org/id/publication/234491</td>\n",
       "      <td>Journal article</td>\n",
       "      <td>2013-01-01</td>\n",
       "      <td>http://dev.marineinfo.org/id/collection/793</td>\n",
       "    </tr>\n",
       "    <tr>\n",
       "      <th>7757</th>\n",
       "      <td>http://dev.marineinfo.org/id/publication/234491</td>\n",
       "      <td>Journal article</td>\n",
       "      <td>2013-01-01</td>\n",
       "      <td>http://dev.marineinfo.org/id/collection/39</td>\n",
       "    </tr>\n",
       "  </tbody>\n",
       "</table>\n",
       "<p>7758 rows × 4 columns</p>\n",
       "</div>"
      ],
      "text/plain": [
       "                                          publication             type  \\\n",
       "0     http://dev.marineinfo.org/id/publication/294591  Journal article   \n",
       "1     http://dev.marineinfo.org/id/publication/294591  Journal article   \n",
       "2     http://dev.marineinfo.org/id/publication/294591  Journal article   \n",
       "3     http://dev.marineinfo.org/id/publication/294591  Journal article   \n",
       "4     http://dev.marineinfo.org/id/publication/294591  Journal article   \n",
       "...                                               ...              ...   \n",
       "7753  http://dev.marineinfo.org/id/publication/312467  Journal article   \n",
       "7754  http://dev.marineinfo.org/id/publication/312467  Journal article   \n",
       "7755  http://dev.marineinfo.org/id/publication/234491  Journal article   \n",
       "7756  http://dev.marineinfo.org/id/publication/234491  Journal article   \n",
       "7757  http://dev.marineinfo.org/id/publication/234491  Journal article   \n",
       "\n",
       "     publish_date                           special_collection  \n",
       "0      2018-01-01  http://dev.marineinfo.org/id/collection/919  \n",
       "1      2018-01-01  http://dev.marineinfo.org/id/collection/945  \n",
       "2      2018-01-01  http://dev.marineinfo.org/id/collection/941  \n",
       "3      2018-01-01   http://dev.marineinfo.org/id/collection/39  \n",
       "4      2018-01-01  http://dev.marineinfo.org/id/collection/880  \n",
       "...           ...                                          ...  \n",
       "7753   2019-01-01   http://dev.marineinfo.org/id/collection/39  \n",
       "7754   2019-01-01  http://dev.marineinfo.org/id/collection/507  \n",
       "7755   2013-01-01  http://dev.marineinfo.org/id/collection/941  \n",
       "7756   2013-01-01  http://dev.marineinfo.org/id/collection/793  \n",
       "7757   2013-01-01   http://dev.marineinfo.org/id/collection/39  \n",
       "\n",
       "[7758 rows x 4 columns]"
      ]
     },
     "execution_count": 4,
     "metadata": {},
     "output_type": "execute_result"
    }
   ],
   "source": [
    "publication_info = execute_to_df(\"1_publication.sparql\")\n",
    "publication_info"
   ]
  },
  {
   "cell_type": "code",
   "execution_count": 5,
   "id": "6cf65db7-b16b-47ac-9c2c-b21cd11e15d1",
   "metadata": {},
   "outputs": [],
   "source": [
    "publications = publication_info.groupby('publication').nunique()"
   ]
  },
  {
   "cell_type": "code",
   "execution_count": 6,
   "id": "0afffa4a-1b73-4660-b430-40953cec27f9",
   "metadata": {},
   "outputs": [
    {
     "name": "stdout",
     "output_type": "stream",
     "text": [
      "There are 1584 publications in the LifeWatch special collections.\n"
     ]
    },
    {
     "data": {
      "text/html": [
       "<div>\n",
       "<style scoped>\n",
       "    .dataframe tbody tr th:only-of-type {\n",
       "        vertical-align: middle;\n",
       "    }\n",
       "\n",
       "    .dataframe tbody tr th {\n",
       "        vertical-align: top;\n",
       "    }\n",
       "\n",
       "    .dataframe thead th {\n",
       "        text-align: right;\n",
       "    }\n",
       "</style>\n",
       "<table border=\"1\" class=\"dataframe\">\n",
       "  <thead>\n",
       "    <tr style=\"text-align: right;\">\n",
       "      <th></th>\n",
       "      <th>type</th>\n",
       "      <th>publish_date</th>\n",
       "      <th>special_collection</th>\n",
       "    </tr>\n",
       "    <tr>\n",
       "      <th>publication</th>\n",
       "      <th></th>\n",
       "      <th></th>\n",
       "      <th></th>\n",
       "    </tr>\n",
       "  </thead>\n",
       "  <tbody>\n",
       "    <tr>\n",
       "      <th>http://dev.marineinfo.org/id/publication/100295</th>\n",
       "      <td>1</td>\n",
       "      <td>1</td>\n",
       "      <td>8</td>\n",
       "    </tr>\n",
       "    <tr>\n",
       "      <th>http://dev.marineinfo.org/id/publication/100297</th>\n",
       "      <td>1</td>\n",
       "      <td>1</td>\n",
       "      <td>11</td>\n",
       "    </tr>\n",
       "    <tr>\n",
       "      <th>http://dev.marineinfo.org/id/publication/100343</th>\n",
       "      <td>1</td>\n",
       "      <td>1</td>\n",
       "      <td>9</td>\n",
       "    </tr>\n",
       "    <tr>\n",
       "      <th>http://dev.marineinfo.org/id/publication/107012</th>\n",
       "      <td>1</td>\n",
       "      <td>1</td>\n",
       "      <td>14</td>\n",
       "    </tr>\n",
       "    <tr>\n",
       "      <th>http://dev.marineinfo.org/id/publication/107036</th>\n",
       "      <td>1</td>\n",
       "      <td>1</td>\n",
       "      <td>8</td>\n",
       "    </tr>\n",
       "    <tr>\n",
       "      <th>...</th>\n",
       "      <td>...</td>\n",
       "      <td>...</td>\n",
       "      <td>...</td>\n",
       "    </tr>\n",
       "    <tr>\n",
       "      <th>http://dev.marineinfo.org/id/publication/71619</th>\n",
       "      <td>1</td>\n",
       "      <td>1</td>\n",
       "      <td>13</td>\n",
       "    </tr>\n",
       "    <tr>\n",
       "      <th>http://dev.marineinfo.org/id/publication/71643</th>\n",
       "      <td>1</td>\n",
       "      <td>1</td>\n",
       "      <td>10</td>\n",
       "    </tr>\n",
       "    <tr>\n",
       "      <th>http://dev.marineinfo.org/id/publication/72946</th>\n",
       "      <td>1</td>\n",
       "      <td>1</td>\n",
       "      <td>5</td>\n",
       "    </tr>\n",
       "    <tr>\n",
       "      <th>http://dev.marineinfo.org/id/publication/76335</th>\n",
       "      <td>1</td>\n",
       "      <td>1</td>\n",
       "      <td>5</td>\n",
       "    </tr>\n",
       "    <tr>\n",
       "      <th>http://dev.marineinfo.org/id/publication/97418</th>\n",
       "      <td>1</td>\n",
       "      <td>1</td>\n",
       "      <td>11</td>\n",
       "    </tr>\n",
       "  </tbody>\n",
       "</table>\n",
       "<p>1584 rows × 3 columns</p>\n",
       "</div>"
      ],
      "text/plain": [
       "                                                 type  publish_date  \\\n",
       "publication                                                           \n",
       "http://dev.marineinfo.org/id/publication/100295     1             1   \n",
       "http://dev.marineinfo.org/id/publication/100297     1             1   \n",
       "http://dev.marineinfo.org/id/publication/100343     1             1   \n",
       "http://dev.marineinfo.org/id/publication/107012     1             1   \n",
       "http://dev.marineinfo.org/id/publication/107036     1             1   \n",
       "...                                               ...           ...   \n",
       "http://dev.marineinfo.org/id/publication/71619      1             1   \n",
       "http://dev.marineinfo.org/id/publication/71643      1             1   \n",
       "http://dev.marineinfo.org/id/publication/72946      1             1   \n",
       "http://dev.marineinfo.org/id/publication/76335      1             1   \n",
       "http://dev.marineinfo.org/id/publication/97418      1             1   \n",
       "\n",
       "                                                 special_collection  \n",
       "publication                                                          \n",
       "http://dev.marineinfo.org/id/publication/100295                   8  \n",
       "http://dev.marineinfo.org/id/publication/100297                  11  \n",
       "http://dev.marineinfo.org/id/publication/100343                   9  \n",
       "http://dev.marineinfo.org/id/publication/107012                  14  \n",
       "http://dev.marineinfo.org/id/publication/107036                   8  \n",
       "...                                                             ...  \n",
       "http://dev.marineinfo.org/id/publication/71619                   13  \n",
       "http://dev.marineinfo.org/id/publication/71643                   10  \n",
       "http://dev.marineinfo.org/id/publication/72946                    5  \n",
       "http://dev.marineinfo.org/id/publication/76335                    5  \n",
       "http://dev.marineinfo.org/id/publication/97418                   11  \n",
       "\n",
       "[1584 rows x 3 columns]"
      ]
     },
     "execution_count": 6,
     "metadata": {},
     "output_type": "execute_result"
    }
   ],
   "source": [
    "print(f'There are {publications.shape[0]} publications in the LifeWatch special collections.')\n",
    "\n",
    "publications"
   ]
  },
  {
   "cell_type": "markdown",
   "id": "d346e07b-d274-4ef2-bce8-c4a65cebafad",
   "metadata": {},
   "source": [
    "### a. Number of publications"
   ]
  },
  {
   "cell_type": "code",
   "execution_count": 7,
   "id": "6bd2e0b1-b0ff-4765-8137-603850d90fef",
   "metadata": {},
   "outputs": [],
   "source": [
    "# manipulate date datatype\n",
    "publication_info['publish_date'] = pd.to_datetime(publication_info['publish_date'])\n",
    "publication_info['publish_year'] = publication_info['publish_date'].dt.year"
   ]
  },
  {
   "cell_type": "code",
   "execution_count": 8,
   "id": "3d7062ca-61f1-47c0-bfa3-4740945c5c3b",
   "metadata": {},
   "outputs": [
    {
     "name": "stdout",
     "output_type": "stream",
     "text": [
      "number of publications with missing publish date: 10\n"
     ]
    }
   ],
   "source": [
    "# assess publications with missing publish_date\n",
    "pubs_with_missing_publish_year = len(publication_info[publication_info['publish_year'].isnull()])\n",
    "print(f'number of publications with missing publish date: {pubs_with_missing_publish_year}')"
   ]
  },
  {
   "cell_type": "code",
   "execution_count": 9,
   "id": "3c29d1eb-a813-4385-9f4d-81e89de591c5",
   "metadata": {},
   "outputs": [],
   "source": [
    "# replace all NaN values with zeros & convert from float to int\n",
    "publication_info['publish_year'] = publication_info['publish_year'].fillna(0).astype(int)"
   ]
  },
  {
   "cell_type": "code",
   "execution_count": 10,
   "id": "ae42c90f-491d-4731-9e5e-3b04c0d59819",
   "metadata": {},
   "outputs": [
    {
     "data": {
      "text/html": [
       "<div>\n",
       "<style scoped>\n",
       "    .dataframe tbody tr th:only-of-type {\n",
       "        vertical-align: middle;\n",
       "    }\n",
       "\n",
       "    .dataframe tbody tr th {\n",
       "        vertical-align: top;\n",
       "    }\n",
       "\n",
       "    .dataframe thead th {\n",
       "        text-align: right;\n",
       "    }\n",
       "</style>\n",
       "<table border=\"1\" class=\"dataframe\">\n",
       "  <thead>\n",
       "    <tr style=\"text-align: right;\">\n",
       "      <th></th>\n",
       "      <th>publication</th>\n",
       "      <th>type</th>\n",
       "      <th>publish_date</th>\n",
       "      <th>special_collection</th>\n",
       "      <th>publish_year</th>\n",
       "    </tr>\n",
       "  </thead>\n",
       "  <tbody>\n",
       "    <tr>\n",
       "      <th>0</th>\n",
       "      <td>http://dev.marineinfo.org/id/publication/294591</td>\n",
       "      <td>Journal article</td>\n",
       "      <td>2018-01-01</td>\n",
       "      <td>http://dev.marineinfo.org/id/collection/919</td>\n",
       "      <td>2018</td>\n",
       "    </tr>\n",
       "    <tr>\n",
       "      <th>1</th>\n",
       "      <td>http://dev.marineinfo.org/id/publication/294591</td>\n",
       "      <td>Journal article</td>\n",
       "      <td>2018-01-01</td>\n",
       "      <td>http://dev.marineinfo.org/id/collection/945</td>\n",
       "      <td>2018</td>\n",
       "    </tr>\n",
       "    <tr>\n",
       "      <th>2</th>\n",
       "      <td>http://dev.marineinfo.org/id/publication/294591</td>\n",
       "      <td>Journal article</td>\n",
       "      <td>2018-01-01</td>\n",
       "      <td>http://dev.marineinfo.org/id/collection/941</td>\n",
       "      <td>2018</td>\n",
       "    </tr>\n",
       "    <tr>\n",
       "      <th>3</th>\n",
       "      <td>http://dev.marineinfo.org/id/publication/294591</td>\n",
       "      <td>Journal article</td>\n",
       "      <td>2018-01-01</td>\n",
       "      <td>http://dev.marineinfo.org/id/collection/39</td>\n",
       "      <td>2018</td>\n",
       "    </tr>\n",
       "    <tr>\n",
       "      <th>4</th>\n",
       "      <td>http://dev.marineinfo.org/id/publication/294591</td>\n",
       "      <td>Journal article</td>\n",
       "      <td>2018-01-01</td>\n",
       "      <td>http://dev.marineinfo.org/id/collection/880</td>\n",
       "      <td>2018</td>\n",
       "    </tr>\n",
       "    <tr>\n",
       "      <th>...</th>\n",
       "      <td>...</td>\n",
       "      <td>...</td>\n",
       "      <td>...</td>\n",
       "      <td>...</td>\n",
       "      <td>...</td>\n",
       "    </tr>\n",
       "    <tr>\n",
       "      <th>7753</th>\n",
       "      <td>http://dev.marineinfo.org/id/publication/312467</td>\n",
       "      <td>Journal article</td>\n",
       "      <td>2019-01-01</td>\n",
       "      <td>http://dev.marineinfo.org/id/collection/39</td>\n",
       "      <td>2019</td>\n",
       "    </tr>\n",
       "    <tr>\n",
       "      <th>7754</th>\n",
       "      <td>http://dev.marineinfo.org/id/publication/312467</td>\n",
       "      <td>Journal article</td>\n",
       "      <td>2019-01-01</td>\n",
       "      <td>http://dev.marineinfo.org/id/collection/507</td>\n",
       "      <td>2019</td>\n",
       "    </tr>\n",
       "    <tr>\n",
       "      <th>7755</th>\n",
       "      <td>http://dev.marineinfo.org/id/publication/234491</td>\n",
       "      <td>Journal article</td>\n",
       "      <td>2013-01-01</td>\n",
       "      <td>http://dev.marineinfo.org/id/collection/941</td>\n",
       "      <td>2013</td>\n",
       "    </tr>\n",
       "    <tr>\n",
       "      <th>7756</th>\n",
       "      <td>http://dev.marineinfo.org/id/publication/234491</td>\n",
       "      <td>Journal article</td>\n",
       "      <td>2013-01-01</td>\n",
       "      <td>http://dev.marineinfo.org/id/collection/793</td>\n",
       "      <td>2013</td>\n",
       "    </tr>\n",
       "    <tr>\n",
       "      <th>7757</th>\n",
       "      <td>http://dev.marineinfo.org/id/publication/234491</td>\n",
       "      <td>Journal article</td>\n",
       "      <td>2013-01-01</td>\n",
       "      <td>http://dev.marineinfo.org/id/collection/39</td>\n",
       "      <td>2013</td>\n",
       "    </tr>\n",
       "  </tbody>\n",
       "</table>\n",
       "<p>6909 rows × 5 columns</p>\n",
       "</div>"
      ],
      "text/plain": [
       "                                          publication             type  \\\n",
       "0     http://dev.marineinfo.org/id/publication/294591  Journal article   \n",
       "1     http://dev.marineinfo.org/id/publication/294591  Journal article   \n",
       "2     http://dev.marineinfo.org/id/publication/294591  Journal article   \n",
       "3     http://dev.marineinfo.org/id/publication/294591  Journal article   \n",
       "4     http://dev.marineinfo.org/id/publication/294591  Journal article   \n",
       "...                                               ...              ...   \n",
       "7753  http://dev.marineinfo.org/id/publication/312467  Journal article   \n",
       "7754  http://dev.marineinfo.org/id/publication/312467  Journal article   \n",
       "7755  http://dev.marineinfo.org/id/publication/234491  Journal article   \n",
       "7756  http://dev.marineinfo.org/id/publication/234491  Journal article   \n",
       "7757  http://dev.marineinfo.org/id/publication/234491  Journal article   \n",
       "\n",
       "     publish_date                           special_collection  publish_year  \n",
       "0      2018-01-01  http://dev.marineinfo.org/id/collection/919          2018  \n",
       "1      2018-01-01  http://dev.marineinfo.org/id/collection/945          2018  \n",
       "2      2018-01-01  http://dev.marineinfo.org/id/collection/941          2018  \n",
       "3      2018-01-01   http://dev.marineinfo.org/id/collection/39          2018  \n",
       "4      2018-01-01  http://dev.marineinfo.org/id/collection/880          2018  \n",
       "...           ...                                          ...           ...  \n",
       "7753   2019-01-01   http://dev.marineinfo.org/id/collection/39          2019  \n",
       "7754   2019-01-01  http://dev.marineinfo.org/id/collection/507          2019  \n",
       "7755   2013-01-01  http://dev.marineinfo.org/id/collection/941          2013  \n",
       "7756   2013-01-01  http://dev.marineinfo.org/id/collection/793          2013  \n",
       "7757   2013-01-01   http://dev.marineinfo.org/id/collection/39          2013  \n",
       "\n",
       "[6909 rows x 5 columns]"
      ]
     },
     "execution_count": 10,
     "metadata": {},
     "output_type": "execute_result"
    }
   ],
   "source": [
    "# set & select date range\n",
    "START_YEAR = 2012\n",
    "END_YEAR = 2024\n",
    "\n",
    "publication_info_12_24 = publication_info[ (publication_info['publish_year'] >= START_YEAR) & (publication_info['publish_year'] <= END_YEAR) ]\n",
    "publication_info_12_24"
   ]
  },
  {
   "cell_type": "code",
   "execution_count": 11,
   "id": "8e6f8359-4331-4a43-a0fa-bc9095252976",
   "metadata": {},
   "outputs": [
    {
     "name": "stdout",
     "output_type": "stream",
     "text": [
      "There are 1464 publications withing the defined time range.\n"
     ]
    }
   ],
   "source": [
    "publications_12_24 = publication_info_12_24.groupby('publication').nunique()\n",
    "print(f'There are {publications_12_24.shape[0]} publications withing the defined time range.')"
   ]
  },
  {
   "cell_type": "code",
   "execution_count": 12,
   "id": "6c1c8b82-1456-4bdc-bb0b-4bd299f9d42f",
   "metadata": {},
   "outputs": [],
   "source": [
    "# calculate number & cummulative number of publications per publish year \n",
    "pubs_per_publishyear = publication_info_12_24.groupby('publish_year').nunique()\n",
    "pubs_per_publishyear['publication_cumsum'] = pubs_per_publishyear['publication'].cumsum(skipna=False)"
   ]
  },
  {
   "cell_type": "code",
   "execution_count": 13,
   "id": "c4c403b2-3688-4706-bd74-4d3ee6a7bd68",
   "metadata": {},
   "outputs": [
    {
     "data": {
      "text/html": [
       "<div>\n",
       "<style scoped>\n",
       "    .dataframe tbody tr th:only-of-type {\n",
       "        vertical-align: middle;\n",
       "    }\n",
       "\n",
       "    .dataframe tbody tr th {\n",
       "        vertical-align: top;\n",
       "    }\n",
       "\n",
       "    .dataframe thead th {\n",
       "        text-align: right;\n",
       "    }\n",
       "</style>\n",
       "<table border=\"1\" class=\"dataframe\">\n",
       "  <thead>\n",
       "    <tr style=\"text-align: right;\">\n",
       "      <th>publish_year</th>\n",
       "      <th>2012</th>\n",
       "      <th>2013</th>\n",
       "      <th>2014</th>\n",
       "      <th>2015</th>\n",
       "      <th>2016</th>\n",
       "      <th>2017</th>\n",
       "      <th>2018</th>\n",
       "      <th>2019</th>\n",
       "      <th>2020</th>\n",
       "      <th>2021</th>\n",
       "      <th>2022</th>\n",
       "      <th>2023</th>\n",
       "    </tr>\n",
       "  </thead>\n",
       "  <tbody>\n",
       "    <tr>\n",
       "      <th>Number of publications</th>\n",
       "      <td>33</td>\n",
       "      <td>79</td>\n",
       "      <td>80</td>\n",
       "      <td>101</td>\n",
       "      <td>134</td>\n",
       "      <td>118</td>\n",
       "      <td>193</td>\n",
       "      <td>178</td>\n",
       "      <td>180</td>\n",
       "      <td>168</td>\n",
       "      <td>110</td>\n",
       "      <td>90</td>\n",
       "    </tr>\n",
       "    <tr>\n",
       "      <th>type</th>\n",
       "      <td>4</td>\n",
       "      <td>6</td>\n",
       "      <td>5</td>\n",
       "      <td>6</td>\n",
       "      <td>6</td>\n",
       "      <td>7</td>\n",
       "      <td>6</td>\n",
       "      <td>6</td>\n",
       "      <td>6</td>\n",
       "      <td>5</td>\n",
       "      <td>6</td>\n",
       "      <td>5</td>\n",
       "    </tr>\n",
       "    <tr>\n",
       "      <th>publish_date</th>\n",
       "      <td>1</td>\n",
       "      <td>1</td>\n",
       "      <td>1</td>\n",
       "      <td>1</td>\n",
       "      <td>1</td>\n",
       "      <td>1</td>\n",
       "      <td>1</td>\n",
       "      <td>1</td>\n",
       "      <td>1</td>\n",
       "      <td>1</td>\n",
       "      <td>1</td>\n",
       "      <td>1</td>\n",
       "    </tr>\n",
       "    <tr>\n",
       "      <th>special_collection</th>\n",
       "      <td>22</td>\n",
       "      <td>40</td>\n",
       "      <td>38</td>\n",
       "      <td>45</td>\n",
       "      <td>40</td>\n",
       "      <td>38</td>\n",
       "      <td>54</td>\n",
       "      <td>46</td>\n",
       "      <td>50</td>\n",
       "      <td>41</td>\n",
       "      <td>42</td>\n",
       "      <td>27</td>\n",
       "    </tr>\n",
       "    <tr>\n",
       "      <th>Cummulative number of publications</th>\n",
       "      <td>33</td>\n",
       "      <td>112</td>\n",
       "      <td>192</td>\n",
       "      <td>293</td>\n",
       "      <td>427</td>\n",
       "      <td>545</td>\n",
       "      <td>738</td>\n",
       "      <td>916</td>\n",
       "      <td>1096</td>\n",
       "      <td>1264</td>\n",
       "      <td>1374</td>\n",
       "      <td>1464</td>\n",
       "    </tr>\n",
       "  </tbody>\n",
       "</table>\n",
       "</div>"
      ],
      "text/plain": [
       "publish_year                        2012  2013  2014  2015  2016  2017  2018  \\\n",
       "Number of publications                33    79    80   101   134   118   193   \n",
       "type                                   4     6     5     6     6     7     6   \n",
       "publish_date                           1     1     1     1     1     1     1   \n",
       "special_collection                    22    40    38    45    40    38    54   \n",
       "Cummulative number of publications    33   112   192   293   427   545   738   \n",
       "\n",
       "publish_year                        2019  2020  2021  2022  2023  \n",
       "Number of publications               178   180   168   110    90  \n",
       "type                                   6     6     5     6     5  \n",
       "publish_date                           1     1     1     1     1  \n",
       "special_collection                    46    50    41    42    27  \n",
       "Cummulative number of publications   916  1096  1264  1374  1464  "
      ]
     },
     "execution_count": 13,
     "metadata": {},
     "output_type": "execute_result"
    }
   ],
   "source": [
    "# Table\n",
    "pubs_per_publishyear.rename(columns={\n",
    "    'publication': 'Number of publications', \n",
    "    'publication_cumsum': 'Cummulative number of publications'}, inplace=True)\n",
    "\n",
    "pubs_per_publishyear.transpose()"
   ]
  },
  {
   "cell_type": "code",
   "execution_count": 14,
   "id": "91320c35",
   "metadata": {},
   "outputs": [
    {
     "name": "stderr",
     "output_type": "stream",
     "text": [
      "/tmp/ipykernel_694/1180679645.py:8: UserWarning: set_ticklabels() should only be used with a fixed number of ticks, i.e. after set_ticks() or using a FixedLocator.\n",
      "  ax[0].set_xticklabels(pubs_per_publishyear.index.astype(str), rotation=30)\n",
      "/tmp/ipykernel_694/1180679645.py:14: UserWarning: set_ticklabels() should only be used with a fixed number of ticks, i.e. after set_ticks() or using a FixedLocator.\n",
      "  ax[1].set_xticklabels(pubs_per_publishyear.index.astype(str), rotation=30, ha='right')\n"
     ]
    },
    {
     "data": {
      "image/png": "[encoded data removed]",
      "text/plain": [
       "<Figure size 1200x500 with 2 Axes>"
      ]
     },
     "metadata": {},
     "output_type": "display_data"
    }
   ],
   "source": [
    "# Horizontal barplot of number of publiations per publish year\n",
    "fig, ax = plt.subplots(1,2, figsize=(12,5))\n",
    "\n",
    "ax[0].bar(pubs_per_publishyear.index.astype(str), pubs_per_publishyear['Number of publications'])\n",
    "ax[0].set_title('Number of publications per year')\n",
    "ax[0].set_ylabel('Number of publications')\n",
    "ax[0].set_xlabel('Year')\n",
    "ax[0].set_xticklabels(pubs_per_publishyear.index.astype(str), rotation=30)\n",
    "\n",
    "ax[1].bar(pubs_per_publishyear.index.astype(str), pubs_per_publishyear['Cummulative number of publications'])\n",
    "ax[1].set_title('Cummulative number of publications per year')\n",
    "ax[1].set_ylabel('Number of publications')\n",
    "ax[1].set_xlabel('Year')\n",
    "ax[1].set_xticklabels(pubs_per_publishyear.index.astype(str), rotation=30, ha='right')\n",
    "\n",
    "plt.show()"
   ]
  },
  {
   "cell_type": "markdown",
   "id": "be5cbdd7",
   "metadata": {},
   "source": [
    "### b. Author affiliations - (from here still work in progress)"
   ]
  },
  {
   "cell_type": "markdown",
   "id": "d51e5635-29b2-49d4-950e-2d694da74b7b",
   "metadata": {},
   "source": [
    "This was originally first author affiliation. However the graph structure of linked data facilitates including the affiliation of all authors linked to a publication.\n",
    "\n",
    "TODO: include stats on missing information"
   ]
  },
  {
   "cell_type": "markdown",
   "id": "8749b2e4-812a-4eb9-a8c1-2c65da54755b",
   "metadata": {},
   "source": [
    "#### Assessment of author information linked to a publication:"
   ]
  },
  {
   "cell_type": "code",
   "execution_count": null,
   "id": "d1e4014b",
   "metadata": {},
   "outputs": [],
   "source": [
    "#publication with missing authors --> currently breaking kernel due blanknode issue\n",
    "pub_auth = execute_to_df(\"1_publication-authors.sparql\") \n",
    "pub_auth"
   ]
  },
  {
   "cell_type": "code",
   "execution_count": null,
   "id": "03188770-7321-4eee-ae97-77d08314bbca",
   "metadata": {},
   "outputs": [],
   "source": [
    "#publications with authors, with missing name information\n",
    "pub_auth_name = execute_to_df(\"1_publication-authors-name-info.sparql\")\n",
    "pub_auth_name"
   ]
  },
  {
   "cell_type": "code",
   "execution_count": null,
   "id": "a21179aa-947a-422b-8727-c1a65049b071",
   "metadata": {},
   "outputs": [],
   "source": [
    "#publications with authors, with missing identifier information\n",
    "pub_auth_id = execute_to_df(\"1_publication-authors-id-info.sparql\")\n",
    "pub_auth_id"
   ]
  },
  {
   "cell_type": "code",
   "execution_count": null,
   "id": "1558398a-0941-46e7-8429-12b6a20272bd",
   "metadata": {},
   "outputs": [],
   "source": [
    "#publication with authors, with missing affiliation id information\n",
    "pub_auth_affil = execute_to_df(\"1_publication-authors-affil-info.sparql\")\n",
    "pub_auth_affil"
   ]
  },
  {
   "cell_type": "markdown",
   "id": "603347c7-009a-42a0-b2f4-058b28f0a165",
   "metadata": {},
   "source": [
    "#### Horizontal histogram graph of number of publications per country of the (first) author affiliation"
   ]
  },
  {
   "cell_type": "code",
   "execution_count": null,
   "id": "2ec9f7a9-8b25-471d-bc33-ef29de561165",
   "metadata": {},
   "outputs": [],
   "source": [
    "# Country infor of publications with authors that have a recorded affiliation-ID\n",
    "pub_auth_info = execute_to_df(\"1_publication-authors-country.sparql\")\n",
    "pub_auth_info"
   ]
  },
  {
   "cell_type": "code",
   "execution_count": null,
   "id": "331c0ac6-aeda-4fc2-a953-6d667cd228c7",
   "metadata": {},
   "outputs": [],
   "source": [
    "## Table\n",
    "country_pubs = pub_auth_info.groupby('country_name').nunique().sort_values(ascending=False)\n",
    "country_pubs"
   ]
  },
  {
   "cell_type": "code",
   "execution_count": null,
   "id": "531f06ca-1b4c-468c-9440-dfca4406bec8",
   "metadata": {},
   "outputs": [],
   "source": [
    "## Horizontal histogram graph \n",
    "fig, ax = plt.subplots()\n",
    "ax.barh(country_pubs)\n",
    "ax.set_xlabel('number of publications')\n",
    "ax.set_title('Number of unique publications per country')\n",
    "\n",
    "plt.show()"
   ]
  },
  {
   "cell_type": "code",
   "execution_count": null,
   "id": "f7be5c4a-5b62-4ea8-886e-1102af84a5f7",
   "metadata": {},
   "outputs": [],
   "source": [
    "# Publications with locationCreated\n",
    "pub_location = execute_to_df(\"1_publication-locationcreated.sparql\")\n",
    "pub_location"
   ]
  },
  {
   "cell_type": "code",
   "execution_count": null,
   "id": "c98fba9b-11e5-4d3b-bfc5-c065a7b3ecc5",
   "metadata": {},
   "outputs": [],
   "source": [
    "## Table\n",
    "location_pubs = pub_location.groupby('location_created').nunique().sort_values(ascending=False)\n",
    "location_pubs"
   ]
  },
  {
   "cell_type": "code",
   "execution_count": null,
   "id": "d9334c88-133e-4a23-81fe-d3e5ae2f117c",
   "metadata": {},
   "outputs": [],
   "source": [
    "## Horizontal histogram graph \n",
    "fig, ax = plt.subplots()\n",
    "ax.barh(location_pubs)\n",
    "ax.set_xlabel('number of publications')\n",
    "ax.set_title('Number of unique publications per country')\n",
    "\n",
    "plt.show()"
   ]
  },
  {
   "cell_type": "markdown",
   "id": "95b3ac75-7183-42ce-9c9c-a53a08bd246a",
   "metadata": {},
   "source": [
    "TODO: for belgian affiliations: include distinction between flemish and non-flemish "
   ]
  },
  {
   "cell_type": "markdown",
   "id": "bbae6664-3b49-4a21-a861-9ad1b0954393",
   "metadata": {},
   "source": [
    "#### Table of (first) author affiliations per quadruple helix category"
   ]
  },
  {
   "cell_type": "code",
   "execution_count": null,
   "id": "9211f7d0-27dc-47a1-a9b5-84178bf17500",
   "metadata": {},
   "outputs": [],
   "source": [
    "# Group & qh info of publications with authors that have a recorded affiliation-ID\n",
    "pub_auth_groupQH_info = execute_to_df(\"1_publication-authors-group-qh.sparql\")\n",
    "pub_auth_groupQH_info"
   ]
  },
  {
   "cell_type": "code",
   "execution_count": null,
   "id": "f2ca610e-b238-442b-b5c8-69a13d7b3142",
   "metadata": {},
   "outputs": [],
   "source": [
    "## table\n",
    "qh_group_pubs = pub_auth_groupQH_info.groupby(['qh','group']).nunique()\n",
    "qh_group_pubs"
   ]
  },
  {
   "cell_type": "markdown",
   "id": "315ed845",
   "metadata": {},
   "source": [
    "### C. Relevance to Sustainable Development Goals (SDG's)"
   ]
  },
  {
   "cell_type": "code",
   "execution_count": null,
   "id": "8dc55a1f-89ac-4623-9ebc-431d4e7bb632",
   "metadata": {},
   "outputs": [],
   "source": []
  }
 ],
 "metadata": {
  "kernelspec": {
   "display_name": "Python 3 (ipykernel)",
   "language": "python",
   "name": "python3"
  },
  "language_info": {
   "codemirror_mode": {
    "name": "ipython",
    "version": 3
   },
   "file_extension": ".py",
   "mimetype": "text/x-python",
   "name": "python",
   "nbconvert_exporter": "python",
   "pygments_lexer": "ipython3",
   "version": "3.11.6"
  }
 },
 "nbformat": 4,
 "nbformat_minor": 5
}

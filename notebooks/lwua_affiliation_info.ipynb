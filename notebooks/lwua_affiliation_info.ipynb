{
 "cells": [
  {
   "cell_type": "code",
   "execution_count": 12,
   "id": "6575ee8c-56d9-42b1-927e-a34181ad23ef",
   "metadata": {},
   "outputs": [],
   "source": [
    "from connec_functions import execute_to_df, generate_sparql\n",
    "import pandas as pd\n",
    "import matplotlib.pyplot as plt"
   ]
  },
  {
   "cell_type": "markdown",
   "id": "ae7cf98e-7f5a-408d-a24b-c85a97c8b6a0",
   "metadata": {},
   "source": [
    "### Reference information"
   ]
  },
  {
   "cell_type": "code",
   "execution_count": 13,
   "id": "43007028-20c9-413e-abae-073743d00592",
   "metadata": {},
   "outputs": [],
   "source": [
    "reference_info = execute_to_df(\"reference_info.sparql\") #requires large file ingest"
   ]
  },
  {
   "cell_type": "code",
   "execution_count": 14,
   "id": "03ed8b58-269d-4db6-8de7-9b863dd8d04f",
   "metadata": {},
   "outputs": [
    {
     "data": {
      "text/html": [
       "<div>\n",
       "<style scoped>\n",
       "    .dataframe tbody tr th:only-of-type {\n",
       "        vertical-align: middle;\n",
       "    }\n",
       "\n",
       "    .dataframe tbody tr th {\n",
       "        vertical-align: top;\n",
       "    }\n",
       "\n",
       "    .dataframe thead th {\n",
       "        text-align: right;\n",
       "    }\n",
       "</style>\n",
       "<table border=\"1\" class=\"dataframe\">\n",
       "  <thead>\n",
       "    <tr style=\"text-align: right;\">\n",
       "      <th></th>\n",
       "    </tr>\n",
       "  </thead>\n",
       "  <tbody>\n",
       "  </tbody>\n",
       "</table>\n",
       "</div>"
      ],
      "text/plain": [
       "Empty DataFrame\n",
       "Columns: []\n",
       "Index: []"
      ]
     },
     "execution_count": 14,
     "metadata": {},
     "output_type": "execute_result"
    }
   ],
   "source": [
    "#overview list of reference affiliations \n",
    "reference_affil_info"
   ]
  },
  {
   "cell_type": "code",
   "execution_count": 15,
   "id": "cde450da-de28-4c45-8f47-ebd303016c27",
   "metadata": {},
   "outputs": [
    {
     "data": {
      "text/plain": [
       "0"
      ]
     },
     "execution_count": 15,
     "metadata": {},
     "output_type": "execute_result"
    }
   ],
   "source": [
    "len(reference_affil_info)"
   ]
  },
  {
   "cell_type": "code",
   "execution_count": null,
   "id": "97b7f765-f0ea-45d9-bb00-f7bb86fdc090",
   "metadata": {},
   "outputs": [],
   "source": []
  }
 ],
 "metadata": {
  "kernelspec": {
   "display_name": "Python 3 (ipykernel)",
   "language": "python",
   "name": "python3"
  },
  "language_info": {
   "codemirror_mode": {
    "name": "ipython",
    "version": 3
   },
   "file_extension": ".py",
   "mimetype": "text/x-python",
   "name": "python",
   "nbconvert_exporter": "python",
   "pygments_lexer": "ipython3",
   "version": "3.11.6"
  }
 },
 "nbformat": 4,
 "nbformat_minor": 5
}

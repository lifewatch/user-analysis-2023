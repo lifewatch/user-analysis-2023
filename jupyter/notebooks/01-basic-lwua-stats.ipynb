{
 "cells": [
  {
   "cell_type": "code",
   "execution_count": 2,
   "id": "1a16d4cc-ab43-4394-ad1d-80ac0e1745b0",
   "metadata": {
    "jp-MarkdownHeadingCollapsed": true
   },
   "outputs": [],
   "source": [
    "from connec_functions import execute_to_df, generate_sparql"
   ]
  },
  {
   "cell_type": "markdown",
   "id": "43290306-2fee-4780-8644-0294f5dff69e",
   "metadata": {},
   "source": [
    "## Data system users"
   ]
  },
  {
   "cell_type": "code",
   "execution_count": null,
   "id": "f4a38194-4c98-4454-961c-0499c8b27204",
   "metadata": {},
   "outputs": [],
   "source": [
    "datasys_users = execute_to_df(\"organization.sparql\")"
   ]
  },
  {
   "cell_type": "code",
   "execution_count": null,
   "id": "ea498a31-fc5b-4fcf-8ab5-acb9057cbee0",
   "metadata": {},
   "outputs": [],
   "source": [
    "#overview summary\n",
    "datasys_users.describe()"
   ]
  },
  {
   "cell_type": "code",
   "execution_count": null,
   "id": "4e4e1fd6-bb0a-4482-b4db-5b61f87b84cf",
   "metadata": {},
   "outputs": [],
   "source": [
    "datasys_users"
   ]
  },
  {
   "cell_type": "code",
   "execution_count": null,
   "id": "24c59ec6-818b-4d64-b066-1bbd308897d1",
   "metadata": {},
   "outputs": [],
   "source": [
    "# horizontal barplot of affiliation country count, from datasystem users\n",
    "# dsusers_per_country_fig = datasys_users['country'].value_counts().plot.barh(title = \"Datasystem users\",ylabel=\"country\", xlabel=\"user count\")"
   ]
  },
  {
   "cell_type": "code",
   "execution_count": null,
   "id": "bf9dbcb8-b958-469c-b8c1-ec66c6f35d8f",
   "metadata": {},
   "outputs": [],
   "source": [
    "# table of unique datasystem users grouped per type of affiliation and quadruple helix group  \n",
    "# datasys_users.groupby(['qh','group']).nunique()"
   ]
  },
  {
   "cell_type": "markdown",
   "id": "c615a8ea",
   "metadata": {},
   "source": [
    "## Publications"
   ]
  },
  {
   "cell_type": "markdown",
   "id": "5164a2eb-4ed9-40a8-a111-2dea39d5f925",
   "metadata": {},
   "source": [
    "### Number of publications"
   ]
  },
  {
   "cell_type": "code",
   "execution_count": null,
   "id": "4c3d22c2-b71f-4af8-bf19-c42493cf0390",
   "metadata": {},
   "outputs": [],
   "source": [
    "publications = execute_to_df(\"publication.sparql\")"
   ]
  },
  {
   "cell_type": "code",
   "execution_count": null,
   "id": "00d214f4-3f97-4d60-a5b8-2203ebe0ca84",
   "metadata": {},
   "outputs": [],
   "source": [
    "# overview summary of LW publications (publications stored in on of the 13 LW special collections)\n",
    "publications"
   ]
  },
  {
   "cell_type": "code",
   "execution_count": null,
   "id": "6bd2e0b1-b0ff-4765-8137-603850d90fef",
   "metadata": {},
   "outputs": [],
   "source": [
    "# table number of publications per year & cummulative number of publications per year\n",
    "pubs_per_publishdate = publications.groupby('publish_date').nunique()\n",
    "pubs_per_publishdate"
   ]
  },
  {
   "cell_type": "code",
   "execution_count": null,
   "id": "91320c35",
   "metadata": {},
   "outputs": [],
   "source": [
    "# histogram graph of number of publications per year\n",
    "pubs_per_publishdate.hist()"
   ]
  },
  {
   "cell_type": "code",
   "execution_count": null,
   "id": "18d35cd2-3029-4a1a-952c-e7373e887e3c",
   "metadata": {},
   "outputs": [],
   "source": [
    "# histogram graph of cummulative number of publications per year\n"
   ]
  },
  {
   "cell_type": "markdown",
   "id": "be5cbdd7",
   "metadata": {},
   "source": [
    "### First author affiliations"
   ]
  },
  {
   "cell_type": "code",
   "execution_count": null,
   "id": "d1e4014b",
   "metadata": {},
   "outputs": [],
   "source": [
    "# horizontal histogram graph of number of publications per country \n",
    "\n",
    "\n",
    "# table of first author affiliations per quadruple helix category\n"
   ]
  },
  {
   "cell_type": "markdown",
   "id": "315ed845",
   "metadata": {},
   "source": [
    "### Relevance to Sustainable Development Goals (SDG's)"
   ]
  },
  {
   "cell_type": "code",
   "execution_count": null,
   "id": "996dda1f-f457-429a-818a-ecf1f27525a8",
   "metadata": {},
   "outputs": [],
   "source": [
    "execute_to_df(\"organization.sparql\")"
   ]
  },
  {
   "cell_type": "code",
   "execution_count": null,
   "id": "9e77eb47-dcc0-482d-8e4a-2c8f72c2f220",
   "metadata": {},
   "outputs": [],
   "source": []
  },
  {
   "cell_type": "code",
   "execution_count": null,
   "id": "8dc55a1f-89ac-4623-9ebc-431d4e7bb632",
   "metadata": {},
   "outputs": [],
   "source": []
  }
 ],
 "metadata": {
  "kernelspec": {
   "display_name": "Python 3 (ipykernel)",
   "language": "python",
   "name": "python3"
  },
  "language_info": {
   "codemirror_mode": {
    "name": "ipython",
    "version": 3
   },
   "file_extension": ".py",
   "mimetype": "text/x-python",
   "name": "python",
   "nbconvert_exporter": "python",
   "pygments_lexer": "ipython3",
   "version": "3.11.6"
  }
 },
 "nbformat": 4,
 "nbformat_minor": 5
}
